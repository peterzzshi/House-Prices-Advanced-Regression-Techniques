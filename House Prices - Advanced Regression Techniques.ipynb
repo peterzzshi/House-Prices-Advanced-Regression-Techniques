{
 "cells": [
  {
   "cell_type": "code",
   "execution_count": 1,
   "metadata": {
    "collapsed": true
   },
   "outputs": [],
   "source": [
    "import pandas as pd\n",
    "import numpy as np\n",
    "import matplotlib.pyplot as plt\n",
    "from scipy import stats\n",
    "\n",
    "\n",
    "%matplotlib inline\n",
    "\n",
    "import seaborn as sns; sns.set()"
   ]
  },
  {
   "cell_type": "code",
   "execution_count": 2,
   "metadata": {
    "collapsed": true
   },
   "outputs": [],
   "source": [
    "dataset_train = pd.read_csv('train.csv')\n",
    "dataset_test = pd.read_csv('test.csv')"
   ]
  },
  {
   "cell_type": "code",
   "execution_count": null,
   "metadata": {
    "collapsed": true
   },
   "outputs": [],
   "source": [
    "dataset_train.head()"
   ]
  },
  {
   "cell_type": "code",
   "execution_count": null,
   "metadata": {
    "collapsed": true,
    "scrolled": true
   },
   "outputs": [],
   "source": [
    "print(\"shape: \")\n",
    "print(dataset_train.shape)\n",
    "print(\"columns:\") \n",
    "print(dataset_train.columns)"
   ]
  },
  {
   "cell_type": "code",
   "execution_count": 3,
   "metadata": {
    "scrolled": true
   },
   "outputs": [
    {
     "data": {
      "text/plain": [
       "SalePrice        1.000000\n",
       "OverallQual      0.790982\n",
       "GrLivArea        0.708624\n",
       "GarageCars       0.640409\n",
       "GarageArea       0.623431\n",
       "TotalBsmtSF      0.613581\n",
       "1stFlrSF         0.605852\n",
       "FullBath         0.560664\n",
       "TotRmsAbvGrd     0.533723\n",
       "YearBuilt        0.522897\n",
       "YearRemodAdd     0.507101\n",
       "GarageYrBlt      0.486362\n",
       "MasVnrArea       0.477493\n",
       "Fireplaces       0.466929\n",
       "BsmtFinSF1       0.386420\n",
       "LotFrontage      0.351799\n",
       "WoodDeckSF       0.324413\n",
       "2ndFlrSF         0.319334\n",
       "OpenPorchSF      0.315856\n",
       "HalfBath         0.284108\n",
       "LotArea          0.263843\n",
       "BsmtFullBath     0.227122\n",
       "BsmtUnfSF        0.214479\n",
       "BedroomAbvGr     0.168213\n",
       "ScreenPorch      0.111447\n",
       "PoolArea         0.092404\n",
       "MoSold           0.046432\n",
       "3SsnPorch        0.044584\n",
       "BsmtFinSF2      -0.011378\n",
       "BsmtHalfBath    -0.016844\n",
       "MiscVal         -0.021190\n",
       "Id              -0.021917\n",
       "LowQualFinSF    -0.025606\n",
       "YrSold          -0.028923\n",
       "OverallCond     -0.077856\n",
       "MSSubClass      -0.084284\n",
       "EnclosedPorch   -0.128578\n",
       "KitchenAbvGr    -0.135907\n",
       "Name: SalePrice, dtype: float64"
      ]
     },
     "execution_count": 3,
     "metadata": {},
     "output_type": "execute_result"
    }
   ],
   "source": [
    "CorrelationMatrix = dataset_train.corr()\n",
    "CorrelationMatrix[\"SalePrice\"].sort_values(ascending=False)\n"
   ]
  },
  {
   "cell_type": "code",
   "execution_count": null,
   "metadata": {
    "collapsed": true
   },
   "outputs": [],
   "source": [
    "fig, ax = plt.subplots(figsize=(25, 25))\n",
    "#Generate Color Map, red & blue\n",
    "colormap = sns.diverging_palette(240, 10, as_cmap=True)\n",
    "#Generate Heat Map, allow annotations and place floats in map\n",
    "sns.heatmap(CorrelationMatrix, cmap=colormap, annot=True, fmt=\".2f\")\n",
    "#Apply xticks\n",
    "plt.xticks(range(len(CorrelationMatrix.columns)), CorrelationMatrix.columns);\n",
    "#Apply yticks\n",
    "plt.yticks(range(len(CorrelationMatrix.columns)), CorrelationMatrix.columns)\n",
    "#show plot\n",
    "plt.show()"
   ]
  },
  {
   "cell_type": "markdown",
   "metadata": {},
   "source": [
    "Feature extraction:\n",
    "\n",
    "From the plot we can see that the most prominent features are (Setting the cutoff points as 0.5 correlation)\n",
    "\n",
    "\n",
    "OverallQual      0.790982\n",
    "GrLivArea        0.708624\n",
    "GarageCars       0.640409\n",
    "GarageArea       0.623431\n",
    "TotalBsmtSF      0.613581\n",
    "1stFlrSF         0.605852\n",
    "FullBath         0.560664\n",
    "TotRmsAbvGrd     0.533723\n",
    "YearBuilt        0.522897\n",
    "YearRemodAdd     0.507101\n",
    "\n",
    "\n",
    "Now we inspect these features seperately \n",
    "\n",
    "For categorical values, we plot the boxplots; for Quantitative values, we plot the scatterplots\n"
   ]
  },
  {
   "cell_type": "code",
   "execution_count": null,
   "metadata": {
    "collapsed": true
   },
   "outputs": [],
   "source": [
    "# OverallQual\n",
    "feature = 'OverallQual'\n",
    "data = pd.concat([dataset_train['SalePrice'], dataset_train[feature]], axis=1)\n",
    "\n",
    "plot = sns.boxplot(x=feature, y=\"SalePrice\", data=data)\n"
   ]
  },
  {
   "cell_type": "code",
   "execution_count": null,
   "metadata": {
    "collapsed": true
   },
   "outputs": [],
   "source": [
    "# GrLivArea\n",
    "\n",
    "feature = 'GrLivArea'\n",
    "data = pd.concat([dataset_train['SalePrice'], dataset_train[feature]], axis=1)\n",
    "data.plot.scatter(x=feature, y=\"SalePrice\", ylim=(0, 800000))\n"
   ]
  },
  {
   "cell_type": "code",
   "execution_count": null,
   "metadata": {
    "collapsed": true
   },
   "outputs": [],
   "source": [
    "# GarageCars\n",
    "feature = 'GarageCars'\n",
    "data = pd.concat([dataset_train['SalePrice'], dataset_train[feature]], axis=1)\n",
    "plot = sns.boxplot(x=feature, y=\"SalePrice\", data=data)\n"
   ]
  },
  {
   "cell_type": "code",
   "execution_count": null,
   "metadata": {
    "collapsed": true,
    "scrolled": true
   },
   "outputs": [],
   "source": [
    "# GarageArea\n",
    "\n",
    "feature = 'GarageArea'\n",
    "data = pd.concat([dataset_train['SalePrice'], dataset_train[feature]], axis=1)\n",
    "data.plot.scatter(x=feature, y=\"SalePrice\", ylim=(0, 800000))"
   ]
  },
  {
   "cell_type": "code",
   "execution_count": null,
   "metadata": {
    "collapsed": true,
    "scrolled": false
   },
   "outputs": [],
   "source": [
    "# TotalBsmtSF\n",
    "\n",
    "feature = 'TotalBsmtSF'\n",
    "data = pd.concat([dataset_train['SalePrice'], dataset_train[feature]], axis=1)\n",
    "data.plot.scatter(x=feature, y=\"SalePrice\", ylim=(0, 800000))"
   ]
  },
  {
   "cell_type": "code",
   "execution_count": null,
   "metadata": {
    "collapsed": true,
    "scrolled": false
   },
   "outputs": [],
   "source": [
    "# 1stFlrSF\n",
    "\n",
    "feature = '1stFlrSF'\n",
    "data = pd.concat([dataset_train['SalePrice'], dataset_train[feature]], axis=1)\n",
    "data.plot.scatter(x=feature, y=\"SalePrice\", ylim=(0, 800000))"
   ]
  },
  {
   "cell_type": "code",
   "execution_count": null,
   "metadata": {
    "collapsed": true,
    "scrolled": false
   },
   "outputs": [],
   "source": [
    "# FullBath\n",
    "feature = 'FullBath'\n",
    "data = pd.concat([dataset_train['SalePrice'], dataset_train[feature]], axis=1)\n",
    "\n",
    "plot = sns.boxplot(x=feature, y=\"SalePrice\", data=data)"
   ]
  },
  {
   "cell_type": "code",
   "execution_count": null,
   "metadata": {
    "collapsed": true,
    "scrolled": false
   },
   "outputs": [],
   "source": [
    "# TotRmsAbvGrd\n",
    "feature = 'TotRmsAbvGrd'\n",
    "data = pd.concat([dataset_train['SalePrice'], dataset_train[feature]], axis=1)\n",
    "\n",
    "plot = sns.boxplot(x=feature, y=\"SalePrice\", data=data)"
   ]
  },
  {
   "cell_type": "code",
   "execution_count": null,
   "metadata": {
    "collapsed": true,
    "scrolled": false
   },
   "outputs": [],
   "source": [
    "# YearBuilt\n",
    "feature = 'YearBuilt'\n",
    "data = pd.concat([dataset_train['SalePrice'], dataset_train[feature]], axis=1)\n",
    "\n",
    "f, _ = plt.subplots(figsize=(50, 15))\n",
    "\n",
    "plot = sns.boxplot(x=feature, y=\"SalePrice\", data=data)"
   ]
  },
  {
   "cell_type": "code",
   "execution_count": null,
   "metadata": {
    "collapsed": true,
    "scrolled": false
   },
   "outputs": [],
   "source": [
    "# YearRemodAdd\n",
    "feature = 'YearRemodAdd'\n",
    "data = pd.concat([dataset_train['SalePrice'], dataset_train[feature]], axis=1)\n",
    "\n",
    "f, _ = plt.subplots(figsize=(30, 10))\n",
    "\n",
    "plot = sns.boxplot(x=feature, y=\"SalePrice\", data=data)\n"
   ]
  },
  {
   "cell_type": "markdown",
   "metadata": {},
   "source": [
    "Although SalePrice increases slightly with YearBuilt and YearRemodAdd, they do not exhibit strong relationship with the SalePrice, hence we can exclude them from our model analysis.\n",
    "\n",
    "Therefore we are left with only 8 features and below is a zoomed version of the plot"
   ]
  },
  {
   "cell_type": "code",
   "execution_count": 4,
   "metadata": {
    "scrolled": true
   },
   "outputs": [
    {
     "data": {
      "text/plain": [
       "<matplotlib.axes._subplots.AxesSubplot at 0x1a0e2b1dd8>"
      ]
     },
     "execution_count": 4,
     "metadata": {},
     "output_type": "execute_result"
    },
    {
     "data": {
      "image/png": "[encoded data removed]",
      "text/plain": [
       "<matplotlib.figure.Figure at 0x108d478d0>"
      ]
     },
     "metadata": {},
     "output_type": "display_data"
    }
   ],
   "source": [
    "features = CorrelationMatrix.nlargest(9, \"SalePrice\")[\"SalePrice\"].index\n",
    "CorrelationMatrices = np.corrcoef(dataset_train[features].values.T)\n",
    "\n",
    "fig, ax = plt.subplots(figsize=(12, 12))\n",
    "#Generate Color Map, red & blue\n",
    "colormap = sns.diverging_palette(240, 10, as_cmap=True)\n",
    "#Generate Heat Map, allow annotations and place floats in map\n",
    "sns.heatmap(CorrelationMatrices, cmap=colormap, annot=True, fmt=\".2f\", yticklabels=features.values, xticklabels=features.values)\n"
   ]
  },
  {
   "cell_type": "markdown",
   "metadata": {},
   "source": [
    "## From this refined plot, we can see that \n",
    "\n",
    "GrLivArea correlates with TotRmsAbvGrd; GarageCars correlates with GarageArea, and TotalBsmtSF correlates with 1stFlrSF\n",
    "\n",
    "Now we check for the homoscedasticity assumptions for the quantitive variables.\n",
    "\n",
    "\n",
    "Before that, we need to check if there are any missing values in our features."
   ]
  },
  {
   "cell_type": "code",
   "execution_count": null,
   "metadata": {
    "collapsed": true,
    "scrolled": true
   },
   "outputs": [],
   "source": [
    "dataset_train.isnull().sum().sort_values(ascending=False)"
   ]
  },
  {
   "cell_type": "markdown",
   "metadata": {},
   "source": [
    "it loosk like all the our selected features do not suffer from missing value concerns, so we can proceed to examine the distribution of quantitive variables."
   ]
  },
  {
   "cell_type": "code",
   "execution_count": null,
   "metadata": {
    "collapsed": true
   },
   "outputs": [],
   "source": [
    "dataset_train['SalePrice'].describe()"
   ]
  },
  {
   "cell_type": "code",
   "execution_count": null,
   "metadata": {
    "collapsed": true
   },
   "outputs": [],
   "source": [
    "print(\"Skewness: %f\" % dataset_train['SalePrice'].skew())\n",
    "print(\"Kurtosis: %f\" % dataset_train['SalePrice'].kurt())"
   ]
  },
  {
   "cell_type": "code",
   "execution_count": null,
   "metadata": {
    "collapsed": true,
    "scrolled": false
   },
   "outputs": [],
   "source": [
    "sns.distplot(dataset_train['SalePrice'], fit=stats.norm)\n",
    "\n",
    "fig = plt.figure()\n",
    "res = stats.probplot(dataset_train['SalePrice'], plot=plt)\n"
   ]
  },
  {
   "cell_type": "markdown",
   "metadata": {},
   "source": [
    "It doesn't look normal, we need to do somet transformation"
   ]
  },
  {
   "cell_type": "code",
   "execution_count": 5,
   "metadata": {
    "scrolled": false
   },
   "outputs": [
    {
     "data": {
      "image/png": "[encoded data removed]",
      "text/plain": [
       "<matplotlib.figure.Figure at 0x1a0e2b1588>"
      ]
     },
     "metadata": {},
     "output_type": "display_data"
    },
    {
     "data": {
      "image/png": "[encoded data removed]",
      "text/plain": [
       "<matplotlib.figure.Figure at 0x1a0ec01f60>"
      ]
     },
     "metadata": {},
     "output_type": "display_data"
    }
   ],
   "source": [
    "dataset_train['logSalePrice'] = np.log(dataset_train['SalePrice'])\n",
    "\n",
    "sns.distplot(dataset_train['logSalePrice'], fit=stats.norm)\n",
    "fig = plt.figure()\n",
    "res = stats.probplot(dataset_train['logSalePrice'], plot=plt)"
   ]
  },
  {
   "cell_type": "markdown",
   "metadata": {},
   "source": [
    "Looks better now\n",
    "Let's inspect the rest of the quantitative variables\n",
    "    GrLivArea, GarageArea, TotalBsmtSF, 1stFlrSF"
   ]
  },
  {
   "cell_type": "code",
   "execution_count": null,
   "metadata": {
    "collapsed": true,
    "scrolled": false
   },
   "outputs": [],
   "source": [
    "sns.distplot(dataset_train['GrLivArea'], fit=stats.norm)\n",
    "\n",
    "fig = plt.figure()\n",
    "res = stats.probplot(dataset_train['GrLivArea'], plot=plt)\n"
   ]
  },
  {
   "cell_type": "code",
   "execution_count": 6,
   "metadata": {},
   "outputs": [
    {
     "data": {
      "image/png": "[encoded data removed]",
      "text/plain": [
       "<matplotlib.figure.Figure at 0x1a0e2b1550>"
      ]
     },
     "metadata": {},
     "output_type": "display_data"
    },
    {
     "data": {
      "image/png": "[encoded data removed]",
      "text/plain": [
       "<matplotlib.figure.Figure at 0x1a179e2908>"
      ]
     },
     "metadata": {},
     "output_type": "display_data"
    }
   ],
   "source": [
    "dataset_train['logGrLivArea'] = np.log(dataset_train['GrLivArea'])\n",
    "\n",
    "sns.distplot(dataset_train['logGrLivArea'], fit=stats.norm);\n",
    "fig = plt.figure()\n",
    "res = stats.probplot(dataset_train['logGrLivArea'], plot=plt)"
   ]
  },
  {
   "cell_type": "code",
   "execution_count": null,
   "metadata": {
    "collapsed": true,
    "scrolled": false
   },
   "outputs": [],
   "source": [
    "sns.distplot(dataset_train['GarageArea'], fit=stats.norm)\n",
    "\n",
    "fig = plt.figure()\n",
    "res = stats.probplot(dataset_train['GarageArea'], plot=plt)\n"
   ]
  },
  {
   "cell_type": "markdown",
   "metadata": {},
   "source": [
    "Mostly normal, except for some the outliers "
   ]
  },
  {
   "cell_type": "code",
   "execution_count": null,
   "metadata": {
    "collapsed": true,
    "scrolled": false
   },
   "outputs": [],
   "source": [
    "sns.distplot(dataset_train['TotalBsmtSF'], fit=stats.norm)\n",
    "\n",
    "fig = plt.figure()\n",
    "res = stats.probplot(dataset_train['TotalBsmtSF'], plot=plt)\n"
   ]
  },
  {
   "cell_type": "markdown",
   "metadata": {},
   "source": [
    "For TotalBsmtSF, since there are some 0 values, it is important to treat them differently in the log transformation. "
   ]
  },
  {
   "cell_type": "code",
   "execution_count": 7,
   "metadata": {
    "scrolled": false
   },
   "outputs": [
    {
     "name": "stderr",
     "output_type": "stream",
     "text": [
      "/Users/petershi/anaconda3/lib/python3.6/site-packages/ipykernel_launcher.py:2: RuntimeWarning: divide by zero encountered in log\n",
      "  \n"
     ]
    },
    {
     "data": {
      "image/png": "[encoded data removed]",
      "text/plain": [
       "<matplotlib.figure.Figure at 0x1a179d1a90>"
      ]
     },
     "metadata": {},
     "output_type": "display_data"
    },
    {
     "data": {
      "image/png": "[encoded data removed]",
      "text/plain": [
       "<matplotlib.figure.Figure at 0x1a17a05668>"
      ]
     },
     "metadata": {},
     "output_type": "display_data"
    }
   ],
   "source": [
    "dataset_train['logTotalBsmtSF'] = 0 \n",
    "dataset_train.loc[dataset_train['TotalBsmtSF']>0,'logTotalBsmtSF'] = np.log(dataset_train['TotalBsmtSF'])\n",
    "\n",
    "\n",
    "sns.distplot(dataset_train[dataset_train['TotalBsmtSF']>0]['logTotalBsmtSF'], fit=stats.norm);\n",
    "fig = plt.figure()\n",
    "res = stats.probplot(dataset_train[dataset_train['TotalBsmtSF']>0]['logTotalBsmtSF'], plot=plt)\n",
    "\n"
   ]
  },
  {
   "cell_type": "code",
   "execution_count": null,
   "metadata": {
    "collapsed": true
   },
   "outputs": [],
   "source": [
    "sns.distplot(dataset_train['1stFlrSF'], fit=stats.norm)\n",
    "\n",
    "fig = plt.figure()\n",
    "res = stats.probplot(dataset_train['1stFlrSF'], plot=plt)"
   ]
  },
  {
   "cell_type": "code",
   "execution_count": 8,
   "metadata": {},
   "outputs": [
    {
     "data": {
      "image/png": "[encoded data removed]",
      "text/plain": [
       "<matplotlib.figure.Figure at 0x1a1798ae80>"
      ]
     },
     "metadata": {},
     "output_type": "display_data"
    },
    {
     "data": {
      "image/png": "[encoded data removed]",
      "text/plain": [
       "<matplotlib.figure.Figure at 0x1a179b12b0>"
      ]
     },
     "metadata": {},
     "output_type": "display_data"
    }
   ],
   "source": [
    "dataset_train['log1stFlrSF'] = np.log(dataset_train['1stFlrSF'])\n",
    "\n",
    "sns.distplot(dataset_train['log1stFlrSF'], fit=stats.norm);\n",
    "fig = plt.figure()\n",
    "res = stats.probplot(dataset_train['log1stFlrSF'], plot=plt)"
   ]
  },
  {
   "cell_type": "code",
   "execution_count": null,
   "metadata": {
    "collapsed": true,
    "scrolled": true
   },
   "outputs": [],
   "source": [
    "quantatitive_variables = ['logSalePrice', 'logGrLivArea', 'GarageArea', 'logTotalBsmtSF', 'log1stFlrSF']\n",
    "\n",
    "plot = sns.PairGrid(dataset_train[quantatitive_variables])\n",
    "\n",
    "plot = plot.map(plt.scatter)\n"
   ]
  },
  {
   "cell_type": "markdown",
   "metadata": {},
   "source": [
    "From the plot, we can see that homoscedasticity is fulfilled, if we take out the 0 values from the plot. "
   ]
  },
  {
   "cell_type": "markdown",
   "metadata": {},
   "source": [
    "## Model Training"
   ]
  },
  {
   "cell_type": "code",
   "execution_count": 11,
   "metadata": {},
   "outputs": [
    {
     "data": {
      "text/html": [
       "<div>\n",
       "<style>\n",
       "    .dataframe thead tr:only-child th {\n",
       "        text-align: right;\n",
       "    }\n",
       "\n",
       "    .dataframe thead th {\n",
       "        text-align: left;\n",
       "    }\n",
       "\n",
       "    .dataframe tbody tr th {\n",
       "        vertical-align: top;\n",
       "    }\n",
       "</style>\n",
       "<table border=\"1\" class=\"dataframe\">\n",
       "  <thead>\n",
       "    <tr style=\"text-align: right;\">\n",
       "      <th></th>\n",
       "      <th>OverallQual</th>\n",
       "      <th>GarageCars</th>\n",
       "      <th>FullBath</th>\n",
       "      <th>TotRmsAbvGrd</th>\n",
       "      <th>logGrLivArea</th>\n",
       "      <th>GarageArea</th>\n",
       "      <th>logTotalBsmtSF</th>\n",
       "      <th>log1stFlrSF</th>\n",
       "    </tr>\n",
       "  </thead>\n",
       "  <tbody>\n",
       "    <tr>\n",
       "      <th>0</th>\n",
       "      <td>7</td>\n",
       "      <td>2</td>\n",
       "      <td>2</td>\n",
       "      <td>8</td>\n",
       "      <td>7.444249</td>\n",
       "      <td>548</td>\n",
       "      <td>6.752270</td>\n",
       "      <td>6.752270</td>\n",
       "    </tr>\n",
       "    <tr>\n",
       "      <th>1</th>\n",
       "      <td>6</td>\n",
       "      <td>2</td>\n",
       "      <td>2</td>\n",
       "      <td>6</td>\n",
       "      <td>7.140453</td>\n",
       "      <td>460</td>\n",
       "      <td>7.140453</td>\n",
       "      <td>7.140453</td>\n",
       "    </tr>\n",
       "    <tr>\n",
       "      <th>2</th>\n",
       "      <td>7</td>\n",
       "      <td>2</td>\n",
       "      <td>2</td>\n",
       "      <td>6</td>\n",
       "      <td>7.487734</td>\n",
       "      <td>608</td>\n",
       "      <td>6.824374</td>\n",
       "      <td>6.824374</td>\n",
       "    </tr>\n",
       "    <tr>\n",
       "      <th>3</th>\n",
       "      <td>7</td>\n",
       "      <td>3</td>\n",
       "      <td>1</td>\n",
       "      <td>7</td>\n",
       "      <td>7.448334</td>\n",
       "      <td>642</td>\n",
       "      <td>6.628041</td>\n",
       "      <td>6.867974</td>\n",
       "    </tr>\n",
       "    <tr>\n",
       "      <th>4</th>\n",
       "      <td>8</td>\n",
       "      <td>3</td>\n",
       "      <td>2</td>\n",
       "      <td>9</td>\n",
       "      <td>7.695303</td>\n",
       "      <td>836</td>\n",
       "      <td>7.043160</td>\n",
       "      <td>7.043160</td>\n",
       "    </tr>\n",
       "    <tr>\n",
       "      <th>5</th>\n",
       "      <td>5</td>\n",
       "      <td>2</td>\n",
       "      <td>1</td>\n",
       "      <td>5</td>\n",
       "      <td>7.216709</td>\n",
       "      <td>480</td>\n",
       "      <td>6.679599</td>\n",
       "      <td>6.679599</td>\n",
       "    </tr>\n",
       "    <tr>\n",
       "      <th>6</th>\n",
       "      <td>8</td>\n",
       "      <td>2</td>\n",
       "      <td>2</td>\n",
       "      <td>7</td>\n",
       "      <td>7.434848</td>\n",
       "      <td>636</td>\n",
       "      <td>7.430114</td>\n",
       "      <td>7.434848</td>\n",
       "    </tr>\n",
       "    <tr>\n",
       "      <th>7</th>\n",
       "      <td>7</td>\n",
       "      <td>2</td>\n",
       "      <td>2</td>\n",
       "      <td>7</td>\n",
       "      <td>7.644919</td>\n",
       "      <td>484</td>\n",
       "      <td>7.009409</td>\n",
       "      <td>7.009409</td>\n",
       "    </tr>\n",
       "    <tr>\n",
       "      <th>8</th>\n",
       "      <td>7</td>\n",
       "      <td>2</td>\n",
       "      <td>2</td>\n",
       "      <td>8</td>\n",
       "      <td>7.480992</td>\n",
       "      <td>468</td>\n",
       "      <td>6.858565</td>\n",
       "      <td>6.929517</td>\n",
       "    </tr>\n",
       "    <tr>\n",
       "      <th>9</th>\n",
       "      <td>5</td>\n",
       "      <td>1</td>\n",
       "      <td>1</td>\n",
       "      <td>5</td>\n",
       "      <td>6.981935</td>\n",
       "      <td>205</td>\n",
       "      <td>6.898715</td>\n",
       "      <td>6.981935</td>\n",
       "    </tr>\n",
       "    <tr>\n",
       "      <th>10</th>\n",
       "      <td>5</td>\n",
       "      <td>1</td>\n",
       "      <td>1</td>\n",
       "      <td>5</td>\n",
       "      <td>6.946976</td>\n",
       "      <td>384</td>\n",
       "      <td>6.946976</td>\n",
       "      <td>6.946976</td>\n",
       "    </tr>\n",
       "    <tr>\n",
       "      <th>11</th>\n",
       "      <td>9</td>\n",
       "      <td>3</td>\n",
       "      <td>3</td>\n",
       "      <td>11</td>\n",
       "      <td>7.751045</td>\n",
       "      <td>736</td>\n",
       "      <td>7.069023</td>\n",
       "      <td>7.074963</td>\n",
       "    </tr>\n",
       "    <tr>\n",
       "      <th>12</th>\n",
       "      <td>5</td>\n",
       "      <td>1</td>\n",
       "      <td>1</td>\n",
       "      <td>4</td>\n",
       "      <td>6.815640</td>\n",
       "      <td>352</td>\n",
       "      <td>6.815640</td>\n",
       "      <td>6.815640</td>\n",
       "    </tr>\n",
       "    <tr>\n",
       "      <th>13</th>\n",
       "      <td>7</td>\n",
       "      <td>3</td>\n",
       "      <td>2</td>\n",
       "      <td>7</td>\n",
       "      <td>7.309212</td>\n",
       "      <td>840</td>\n",
       "      <td>7.309212</td>\n",
       "      <td>7.309212</td>\n",
       "    </tr>\n",
       "    <tr>\n",
       "      <th>14</th>\n",
       "      <td>6</td>\n",
       "      <td>1</td>\n",
       "      <td>1</td>\n",
       "      <td>5</td>\n",
       "      <td>7.133296</td>\n",
       "      <td>352</td>\n",
       "      <td>7.133296</td>\n",
       "      <td>7.133296</td>\n",
       "    </tr>\n",
       "    <tr>\n",
       "      <th>15</th>\n",
       "      <td>7</td>\n",
       "      <td>2</td>\n",
       "      <td>1</td>\n",
       "      <td>5</td>\n",
       "      <td>6.749931</td>\n",
       "      <td>576</td>\n",
       "      <td>6.723832</td>\n",
       "      <td>6.749931</td>\n",
       "    </tr>\n",
       "    <tr>\n",
       "      <th>16</th>\n",
       "      <td>6</td>\n",
       "      <td>2</td>\n",
       "      <td>1</td>\n",
       "      <td>5</td>\n",
       "      <td>6.911747</td>\n",
       "      <td>480</td>\n",
       "      <td>6.911747</td>\n",
       "      <td>6.911747</td>\n",
       "    </tr>\n",
       "    <tr>\n",
       "      <th>17</th>\n",
       "      <td>4</td>\n",
       "      <td>2</td>\n",
       "      <td>2</td>\n",
       "      <td>6</td>\n",
       "      <td>7.167038</td>\n",
       "      <td>516</td>\n",
       "      <td>0.000000</td>\n",
       "      <td>7.167038</td>\n",
       "    </tr>\n",
       "    <tr>\n",
       "      <th>18</th>\n",
       "      <td>5</td>\n",
       "      <td>2</td>\n",
       "      <td>1</td>\n",
       "      <td>6</td>\n",
       "      <td>7.015712</td>\n",
       "      <td>576</td>\n",
       "      <td>7.015712</td>\n",
       "      <td>7.015712</td>\n",
       "    </tr>\n",
       "    <tr>\n",
       "      <th>19</th>\n",
       "      <td>5</td>\n",
       "      <td>1</td>\n",
       "      <td>1</td>\n",
       "      <td>6</td>\n",
       "      <td>7.199678</td>\n",
       "      <td>294</td>\n",
       "      <td>6.936343</td>\n",
       "      <td>7.199678</td>\n",
       "    </tr>\n",
       "    <tr>\n",
       "      <th>20</th>\n",
       "      <td>8</td>\n",
       "      <td>3</td>\n",
       "      <td>3</td>\n",
       "      <td>9</td>\n",
       "      <td>7.773174</td>\n",
       "      <td>853</td>\n",
       "      <td>7.054450</td>\n",
       "      <td>7.054450</td>\n",
       "    </tr>\n",
       "    <tr>\n",
       "      <th>21</th>\n",
       "      <td>7</td>\n",
       "      <td>1</td>\n",
       "      <td>1</td>\n",
       "      <td>6</td>\n",
       "      <td>7.010312</td>\n",
       "      <td>280</td>\n",
       "      <td>6.456770</td>\n",
       "      <td>7.010312</td>\n",
       "    </tr>\n",
       "    <tr>\n",
       "      <th>22</th>\n",
       "      <td>8</td>\n",
       "      <td>2</td>\n",
       "      <td>2</td>\n",
       "      <td>7</td>\n",
       "      <td>7.492760</td>\n",
       "      <td>534</td>\n",
       "      <td>7.482682</td>\n",
       "      <td>7.492760</td>\n",
       "    </tr>\n",
       "    <tr>\n",
       "      <th>23</th>\n",
       "      <td>5</td>\n",
       "      <td>2</td>\n",
       "      <td>1</td>\n",
       "      <td>6</td>\n",
       "      <td>6.966024</td>\n",
       "      <td>572</td>\n",
       "      <td>6.946976</td>\n",
       "      <td>6.966024</td>\n",
       "    </tr>\n",
       "    <tr>\n",
       "      <th>24</th>\n",
       "      <td>5</td>\n",
       "      <td>1</td>\n",
       "      <td>1</td>\n",
       "      <td>6</td>\n",
       "      <td>6.966024</td>\n",
       "      <td>270</td>\n",
       "      <td>6.966024</td>\n",
       "      <td>6.966024</td>\n",
       "    </tr>\n",
       "    <tr>\n",
       "      <th>25</th>\n",
       "      <td>8</td>\n",
       "      <td>3</td>\n",
       "      <td>2</td>\n",
       "      <td>7</td>\n",
       "      <td>7.377759</td>\n",
       "      <td>890</td>\n",
       "      <td>7.356280</td>\n",
       "      <td>7.377759</td>\n",
       "    </tr>\n",
       "    <tr>\n",
       "      <th>26</th>\n",
       "      <td>5</td>\n",
       "      <td>2</td>\n",
       "      <td>1</td>\n",
       "      <td>5</td>\n",
       "      <td>6.802395</td>\n",
       "      <td>576</td>\n",
       "      <td>6.802395</td>\n",
       "      <td>6.802395</td>\n",
       "    </tr>\n",
       "    <tr>\n",
       "      <th>27</th>\n",
       "      <td>8</td>\n",
       "      <td>3</td>\n",
       "      <td>2</td>\n",
       "      <td>7</td>\n",
       "      <td>7.440734</td>\n",
       "      <td>772</td>\n",
       "      <td>7.440734</td>\n",
       "      <td>7.440734</td>\n",
       "    </tr>\n",
       "    <tr>\n",
       "      <th>28</th>\n",
       "      <td>5</td>\n",
       "      <td>1</td>\n",
       "      <td>1</td>\n",
       "      <td>6</td>\n",
       "      <td>7.377759</td>\n",
       "      <td>319</td>\n",
       "      <td>7.302496</td>\n",
       "      <td>7.377759</td>\n",
       "    </tr>\n",
       "    <tr>\n",
       "      <th>29</th>\n",
       "      <td>4</td>\n",
       "      <td>1</td>\n",
       "      <td>1</td>\n",
       "      <td>4</td>\n",
       "      <td>6.253829</td>\n",
       "      <td>240</td>\n",
       "      <td>6.253829</td>\n",
       "      <td>6.253829</td>\n",
       "    </tr>\n",
       "    <tr>\n",
       "      <th>...</th>\n",
       "      <td>...</td>\n",
       "      <td>...</td>\n",
       "      <td>...</td>\n",
       "      <td>...</td>\n",
       "      <td>...</td>\n",
       "      <td>...</td>\n",
       "      <td>...</td>\n",
       "      <td>...</td>\n",
       "    </tr>\n",
       "    <tr>\n",
       "      <th>1430</th>\n",
       "      <td>5</td>\n",
       "      <td>2</td>\n",
       "      <td>2</td>\n",
       "      <td>7</td>\n",
       "      <td>7.516433</td>\n",
       "      <td>372</td>\n",
       "      <td>6.595781</td>\n",
       "      <td>6.598509</td>\n",
       "    </tr>\n",
       "    <tr>\n",
       "      <th>1431</th>\n",
       "      <td>6</td>\n",
       "      <td>2</td>\n",
       "      <td>2</td>\n",
       "      <td>5</td>\n",
       "      <td>6.864848</td>\n",
       "      <td>440</td>\n",
       "      <td>6.864848</td>\n",
       "      <td>6.864848</td>\n",
       "    </tr>\n",
       "    <tr>\n",
       "      <th>1432</th>\n",
       "      <td>4</td>\n",
       "      <td>1</td>\n",
       "      <td>2</td>\n",
       "      <td>5</td>\n",
       "      <td>6.875232</td>\n",
       "      <td>216</td>\n",
       "      <td>6.486161</td>\n",
       "      <td>6.875232</td>\n",
       "    </tr>\n",
       "    <tr>\n",
       "      <th>1433</th>\n",
       "      <td>6</td>\n",
       "      <td>2</td>\n",
       "      <td>2</td>\n",
       "      <td>8</td>\n",
       "      <td>7.491088</td>\n",
       "      <td>451</td>\n",
       "      <td>6.841615</td>\n",
       "      <td>6.869014</td>\n",
       "    </tr>\n",
       "    <tr>\n",
       "      <th>1434</th>\n",
       "      <td>5</td>\n",
       "      <td>2</td>\n",
       "      <td>2</td>\n",
       "      <td>5</td>\n",
       "      <td>7.026427</td>\n",
       "      <td>484</td>\n",
       "      <td>7.026427</td>\n",
       "      <td>7.026427</td>\n",
       "    </tr>\n",
       "    <tr>\n",
       "      <th>1435</th>\n",
       "      <td>6</td>\n",
       "      <td>2</td>\n",
       "      <td>1</td>\n",
       "      <td>7</td>\n",
       "      <td>7.337588</td>\n",
       "      <td>462</td>\n",
       "      <td>7.184629</td>\n",
       "      <td>7.337588</td>\n",
       "    </tr>\n",
       "    <tr>\n",
       "      <th>1436</th>\n",
       "      <td>4</td>\n",
       "      <td>2</td>\n",
       "      <td>1</td>\n",
       "      <td>5</td>\n",
       "      <td>6.761573</td>\n",
       "      <td>528</td>\n",
       "      <td>6.761573</td>\n",
       "      <td>6.761573</td>\n",
       "    </tr>\n",
       "    <tr>\n",
       "      <th>1437</th>\n",
       "      <td>8</td>\n",
       "      <td>3</td>\n",
       "      <td>2</td>\n",
       "      <td>7</td>\n",
       "      <td>7.566311</td>\n",
       "      <td>774</td>\n",
       "      <td>7.566311</td>\n",
       "      <td>7.566311</td>\n",
       "    </tr>\n",
       "    <tr>\n",
       "      <th>1438</th>\n",
       "      <td>6</td>\n",
       "      <td>2</td>\n",
       "      <td>1</td>\n",
       "      <td>6</td>\n",
       "      <td>7.119636</td>\n",
       "      <td>923</td>\n",
       "      <td>6.815640</td>\n",
       "      <td>7.119636</td>\n",
       "    </tr>\n",
       "    <tr>\n",
       "      <th>1439</th>\n",
       "      <td>7</td>\n",
       "      <td>2</td>\n",
       "      <td>2</td>\n",
       "      <td>6</td>\n",
       "      <td>7.452982</td>\n",
       "      <td>550</td>\n",
       "      <td>6.289716</td>\n",
       "      <td>6.946976</td>\n",
       "    </tr>\n",
       "    <tr>\n",
       "      <th>1440</th>\n",
       "      <td>6</td>\n",
       "      <td>2</td>\n",
       "      <td>2</td>\n",
       "      <td>11</td>\n",
       "      <td>7.845808</td>\n",
       "      <td>672</td>\n",
       "      <td>6.376727</td>\n",
       "      <td>7.260523</td>\n",
       "    </tr>\n",
       "    <tr>\n",
       "      <th>1441</th>\n",
       "      <td>6</td>\n",
       "      <td>2</td>\n",
       "      <td>1</td>\n",
       "      <td>3</td>\n",
       "      <td>6.742881</td>\n",
       "      <td>420</td>\n",
       "      <td>6.742881</td>\n",
       "      <td>6.742881</td>\n",
       "    </tr>\n",
       "    <tr>\n",
       "      <th>1442</th>\n",
       "      <td>10</td>\n",
       "      <td>3</td>\n",
       "      <td>2</td>\n",
       "      <td>10</td>\n",
       "      <td>7.604396</td>\n",
       "      <td>812</td>\n",
       "      <td>6.924612</td>\n",
       "      <td>6.933423</td>\n",
       "    </tr>\n",
       "    <tr>\n",
       "      <th>1443</th>\n",
       "      <td>6</td>\n",
       "      <td>1</td>\n",
       "      <td>1</td>\n",
       "      <td>4</td>\n",
       "      <td>6.858565</td>\n",
       "      <td>192</td>\n",
       "      <td>6.858565</td>\n",
       "      <td>6.858565</td>\n",
       "    </tr>\n",
       "    <tr>\n",
       "      <th>1444</th>\n",
       "      <td>7</td>\n",
       "      <td>2</td>\n",
       "      <td>2</td>\n",
       "      <td>7</td>\n",
       "      <td>7.259820</td>\n",
       "      <td>626</td>\n",
       "      <td>7.259820</td>\n",
       "      <td>7.259820</td>\n",
       "    </tr>\n",
       "    <tr>\n",
       "      <th>1445</th>\n",
       "      <td>6</td>\n",
       "      <td>1</td>\n",
       "      <td>1</td>\n",
       "      <td>6</td>\n",
       "      <td>6.816736</td>\n",
       "      <td>240</td>\n",
       "      <td>6.701960</td>\n",
       "      <td>6.816736</td>\n",
       "    </tr>\n",
       "    <tr>\n",
       "      <th>1446</th>\n",
       "      <td>5</td>\n",
       "      <td>1</td>\n",
       "      <td>1</td>\n",
       "      <td>6</td>\n",
       "      <td>7.080026</td>\n",
       "      <td>312</td>\n",
       "      <td>7.080026</td>\n",
       "      <td>7.080026</td>\n",
       "    </tr>\n",
       "    <tr>\n",
       "      <th>1447</th>\n",
       "      <td>8</td>\n",
       "      <td>2</td>\n",
       "      <td>2</td>\n",
       "      <td>8</td>\n",
       "      <td>7.644919</td>\n",
       "      <td>556</td>\n",
       "      <td>7.106606</td>\n",
       "      <td>7.106606</td>\n",
       "    </tr>\n",
       "    <tr>\n",
       "      <th>1448</th>\n",
       "      <td>4</td>\n",
       "      <td>1</td>\n",
       "      <td>1</td>\n",
       "      <td>6</td>\n",
       "      <td>7.204893</td>\n",
       "      <td>384</td>\n",
       "      <td>6.327937</td>\n",
       "      <td>6.679599</td>\n",
       "    </tr>\n",
       "    <tr>\n",
       "      <th>1449</th>\n",
       "      <td>5</td>\n",
       "      <td>0</td>\n",
       "      <td>1</td>\n",
       "      <td>3</td>\n",
       "      <td>6.445720</td>\n",
       "      <td>0</td>\n",
       "      <td>6.445720</td>\n",
       "      <td>6.445720</td>\n",
       "    </tr>\n",
       "    <tr>\n",
       "      <th>1450</th>\n",
       "      <td>5</td>\n",
       "      <td>0</td>\n",
       "      <td>2</td>\n",
       "      <td>8</td>\n",
       "      <td>7.491088</td>\n",
       "      <td>0</td>\n",
       "      <td>6.797940</td>\n",
       "      <td>6.797940</td>\n",
       "    </tr>\n",
       "    <tr>\n",
       "      <th>1451</th>\n",
       "      <td>8</td>\n",
       "      <td>3</td>\n",
       "      <td>2</td>\n",
       "      <td>7</td>\n",
       "      <td>7.363914</td>\n",
       "      <td>840</td>\n",
       "      <td>7.360740</td>\n",
       "      <td>7.363914</td>\n",
       "    </tr>\n",
       "    <tr>\n",
       "      <th>1452</th>\n",
       "      <td>5</td>\n",
       "      <td>2</td>\n",
       "      <td>1</td>\n",
       "      <td>5</td>\n",
       "      <td>6.977281</td>\n",
       "      <td>525</td>\n",
       "      <td>6.304449</td>\n",
       "      <td>6.977281</td>\n",
       "    </tr>\n",
       "    <tr>\n",
       "      <th>1453</th>\n",
       "      <td>5</td>\n",
       "      <td>0</td>\n",
       "      <td>1</td>\n",
       "      <td>6</td>\n",
       "      <td>7.038784</td>\n",
       "      <td>0</td>\n",
       "      <td>7.038784</td>\n",
       "      <td>7.038784</td>\n",
       "    </tr>\n",
       "    <tr>\n",
       "      <th>1454</th>\n",
       "      <td>7</td>\n",
       "      <td>2</td>\n",
       "      <td>2</td>\n",
       "      <td>6</td>\n",
       "      <td>7.107425</td>\n",
       "      <td>400</td>\n",
       "      <td>7.107425</td>\n",
       "      <td>7.107425</td>\n",
       "    </tr>\n",
       "    <tr>\n",
       "      <th>1455</th>\n",
       "      <td>6</td>\n",
       "      <td>2</td>\n",
       "      <td>2</td>\n",
       "      <td>7</td>\n",
       "      <td>7.406711</td>\n",
       "      <td>460</td>\n",
       "      <td>6.859615</td>\n",
       "      <td>6.859615</td>\n",
       "    </tr>\n",
       "    <tr>\n",
       "      <th>1456</th>\n",
       "      <td>6</td>\n",
       "      <td>2</td>\n",
       "      <td>2</td>\n",
       "      <td>7</td>\n",
       "      <td>7.636752</td>\n",
       "      <td>500</td>\n",
       "      <td>7.340836</td>\n",
       "      <td>7.636752</td>\n",
       "    </tr>\n",
       "    <tr>\n",
       "      <th>1457</th>\n",
       "      <td>7</td>\n",
       "      <td>1</td>\n",
       "      <td>2</td>\n",
       "      <td>9</td>\n",
       "      <td>7.757906</td>\n",
       "      <td>252</td>\n",
       "      <td>7.049255</td>\n",
       "      <td>7.080026</td>\n",
       "    </tr>\n",
       "    <tr>\n",
       "      <th>1458</th>\n",
       "      <td>5</td>\n",
       "      <td>1</td>\n",
       "      <td>1</td>\n",
       "      <td>5</td>\n",
       "      <td>6.982863</td>\n",
       "      <td>240</td>\n",
       "      <td>6.982863</td>\n",
       "      <td>6.982863</td>\n",
       "    </tr>\n",
       "    <tr>\n",
       "      <th>1459</th>\n",
       "      <td>5</td>\n",
       "      <td>1</td>\n",
       "      <td>1</td>\n",
       "      <td>6</td>\n",
       "      <td>7.135687</td>\n",
       "      <td>276</td>\n",
       "      <td>7.135687</td>\n",
       "      <td>7.135687</td>\n",
       "    </tr>\n",
       "  </tbody>\n",
       "</table>\n",
       "<p>1460 rows × 8 columns</p>\n",
       "</div>"
      ],
      "text/plain": [
       "      OverallQual  GarageCars  FullBath  TotRmsAbvGrd  logGrLivArea  \\\n",
       "0               7           2         2             8      7.444249   \n",
       "1               6           2         2             6      7.140453   \n",
       "2               7           2         2             6      7.487734   \n",
       "3               7           3         1             7      7.448334   \n",
       "4               8           3         2             9      7.695303   \n",
       "5               5           2         1             5      7.216709   \n",
       "6               8           2         2             7      7.434848   \n",
       "7               7           2         2             7      7.644919   \n",
       "8               7           2         2             8      7.480992   \n",
       "9               5           1         1             5      6.981935   \n",
       "10              5           1         1             5      6.946976   \n",
       "11              9           3         3            11      7.751045   \n",
       "12              5           1         1             4      6.815640   \n",
       "13              7           3         2             7      7.309212   \n",
       "14              6           1         1             5      7.133296   \n",
       "15              7           2         1             5      6.749931   \n",
       "16              6           2         1             5      6.911747   \n",
       "17              4           2         2             6      7.167038   \n",
       "18              5           2         1             6      7.015712   \n",
       "19              5           1         1             6      7.199678   \n",
       "20              8           3         3             9      7.773174   \n",
       "21              7           1         1             6      7.010312   \n",
       "22              8           2         2             7      7.492760   \n",
       "23              5           2         1             6      6.966024   \n",
       "24              5           1         1             6      6.966024   \n",
       "25              8           3         2             7      7.377759   \n",
       "26              5           2         1             5      6.802395   \n",
       "27              8           3         2             7      7.440734   \n",
       "28              5           1         1             6      7.377759   \n",
       "29              4           1         1             4      6.253829   \n",
       "...           ...         ...       ...           ...           ...   \n",
       "1430            5           2         2             7      7.516433   \n",
       "1431            6           2         2             5      6.864848   \n",
       "1432            4           1         2             5      6.875232   \n",
       "1433            6           2         2             8      7.491088   \n",
       "1434            5           2         2             5      7.026427   \n",
       "1435            6           2         1             7      7.337588   \n",
       "1436            4           2         1             5      6.761573   \n",
       "1437            8           3         2             7      7.566311   \n",
       "1438            6           2         1             6      7.119636   \n",
       "1439            7           2         2             6      7.452982   \n",
       "1440            6           2         2            11      7.845808   \n",
       "1441            6           2         1             3      6.742881   \n",
       "1442           10           3         2            10      7.604396   \n",
       "1443            6           1         1             4      6.858565   \n",
       "1444            7           2         2             7      7.259820   \n",
       "1445            6           1         1             6      6.816736   \n",
       "1446            5           1         1             6      7.080026   \n",
       "1447            8           2         2             8      7.644919   \n",
       "1448            4           1         1             6      7.204893   \n",
       "1449            5           0         1             3      6.445720   \n",
       "1450            5           0         2             8      7.491088   \n",
       "1451            8           3         2             7      7.363914   \n",
       "1452            5           2         1             5      6.977281   \n",
       "1453            5           0         1             6      7.038784   \n",
       "1454            7           2         2             6      7.107425   \n",
       "1455            6           2         2             7      7.406711   \n",
       "1456            6           2         2             7      7.636752   \n",
       "1457            7           1         2             9      7.757906   \n",
       "1458            5           1         1             5      6.982863   \n",
       "1459            5           1         1             6      7.135687   \n",
       "\n",
       "      GarageArea  logTotalBsmtSF  log1stFlrSF  \n",
       "0            548        6.752270     6.752270  \n",
       "1            460        7.140453     7.140453  \n",
       "2            608        6.824374     6.824374  \n",
       "3            642        6.628041     6.867974  \n",
       "4            836        7.043160     7.043160  \n",
       "5            480        6.679599     6.679599  \n",
       "6            636        7.430114     7.434848  \n",
       "7            484        7.009409     7.009409  \n",
       "8            468        6.858565     6.929517  \n",
       "9            205        6.898715     6.981935  \n",
       "10           384        6.946976     6.946976  \n",
       "11           736        7.069023     7.074963  \n",
       "12           352        6.815640     6.815640  \n",
       "13           840        7.309212     7.309212  \n",
       "14           352        7.133296     7.133296  \n",
       "15           576        6.723832     6.749931  \n",
       "16           480        6.911747     6.911747  \n",
       "17           516        0.000000     7.167038  \n",
       "18           576        7.015712     7.015712  \n",
       "19           294        6.936343     7.199678  \n",
       "20           853        7.054450     7.054450  \n",
       "21           280        6.456770     7.010312  \n",
       "22           534        7.482682     7.492760  \n",
       "23           572        6.946976     6.966024  \n",
       "24           270        6.966024     6.966024  \n",
       "25           890        7.356280     7.377759  \n",
       "26           576        6.802395     6.802395  \n",
       "27           772        7.440734     7.440734  \n",
       "28           319        7.302496     7.377759  \n",
       "29           240        6.253829     6.253829  \n",
       "...          ...             ...          ...  \n",
       "1430         372        6.595781     6.598509  \n",
       "1431         440        6.864848     6.864848  \n",
       "1432         216        6.486161     6.875232  \n",
       "1433         451        6.841615     6.869014  \n",
       "1434         484        7.026427     7.026427  \n",
       "1435         462        7.184629     7.337588  \n",
       "1436         528        6.761573     6.761573  \n",
       "1437         774        7.566311     7.566311  \n",
       "1438         923        6.815640     7.119636  \n",
       "1439         550        6.289716     6.946976  \n",
       "1440         672        6.376727     7.260523  \n",
       "1441         420        6.742881     6.742881  \n",
       "1442         812        6.924612     6.933423  \n",
       "1443         192        6.858565     6.858565  \n",
       "1444         626        7.259820     7.259820  \n",
       "1445         240        6.701960     6.816736  \n",
       "1446         312        7.080026     7.080026  \n",
       "1447         556        7.106606     7.106606  \n",
       "1448         384        6.327937     6.679599  \n",
       "1449           0        6.445720     6.445720  \n",
       "1450           0        6.797940     6.797940  \n",
       "1451         840        7.360740     7.363914  \n",
       "1452         525        6.304449     6.977281  \n",
       "1453           0        7.038784     7.038784  \n",
       "1454         400        7.107425     7.107425  \n",
       "1455         460        6.859615     6.859615  \n",
       "1456         500        7.340836     7.636752  \n",
       "1457         252        7.049255     7.080026  \n",
       "1458         240        6.982863     6.982863  \n",
       "1459         276        7.135687     7.135687  \n",
       "\n",
       "[1460 rows x 8 columns]"
      ]
     },
     "execution_count": 11,
     "metadata": {},
     "output_type": "execute_result"
    }
   ],
   "source": [
    "variables = ['OverallQual', 'GarageCars', 'FullBath', 'TotRmsAbvGrd', 'logGrLivArea', 'GarageArea', 'logTotalBsmtSF', 'log1stFlrSF']\n",
    "dataset_train[variables]"
   ]
  },
  {
   "cell_type": "code",
   "execution_count": 10,
   "metadata": {},
   "outputs": [
    {
     "name": "stderr",
     "output_type": "stream",
     "text": [
      "/Users/petershi/anaconda3/lib/python3.6/site-packages/sklearn/cross_validation.py:41: DeprecationWarning: This module was deprecated in version 0.18 in favor of the model_selection module into which all the refactored classes and functions are moved. Also note that the interface of the new CV iterators are different from that of this module. This module will be removed in 0.20.\n",
      "  \"This module will be removed in 0.20.\", DeprecationWarning)\n"
     ]
    },
    {
     "ename": "ValueError",
     "evalue": "could not convert string to float: 'Normal'",
     "output_type": "error",
     "traceback": [
      "\u001b[0;31m---------------------------------------------------------------------------\u001b[0m",
      "\u001b[0;31mValueError\u001b[0m                                Traceback (most recent call last)",
      "\u001b[0;32m<ipython-input-10-3061926fd590>\u001b[0m in \u001b[0;36m<module>\u001b[0;34m()\u001b[0m\n\u001b[1;32m     18\u001b[0m \u001b[0msc_y\u001b[0m \u001b[0;34m=\u001b[0m \u001b[0mStandardScaler\u001b[0m\u001b[0;34m(\u001b[0m\u001b[0;34m)\u001b[0m\u001b[0;34m\u001b[0m\u001b[0m\n\u001b[1;32m     19\u001b[0m \u001b[0;34m\u001b[0m\u001b[0m\n\u001b[0;32m---> 20\u001b[0;31m \u001b[0mX_scaled\u001b[0m \u001b[0;34m=\u001b[0m \u001b[0msc_X\u001b[0m\u001b[0;34m.\u001b[0m\u001b[0mfit_transform\u001b[0m\u001b[0;34m(\u001b[0m\u001b[0mX\u001b[0m\u001b[0;34m)\u001b[0m\u001b[0;34m\u001b[0m\u001b[0m\n\u001b[0m\u001b[1;32m     21\u001b[0m \u001b[0;34m\u001b[0m\u001b[0m\n\u001b[1;32m     22\u001b[0m \u001b[0my_scaled\u001b[0m \u001b[0;34m=\u001b[0m \u001b[0msc_y\u001b[0m\u001b[0;34m.\u001b[0m\u001b[0mfit_transform\u001b[0m\u001b[0;34m(\u001b[0m\u001b[0my\u001b[0m\u001b[0;34m.\u001b[0m\u001b[0mreshape\u001b[0m\u001b[0;34m(\u001b[0m\u001b[0;34m-\u001b[0m\u001b[0;36m1\u001b[0m\u001b[0;34m,\u001b[0m \u001b[0;36m1\u001b[0m\u001b[0;34m)\u001b[0m\u001b[0;34m)\u001b[0m\u001b[0;34m.\u001b[0m\u001b[0mravel\u001b[0m\u001b[0;34m(\u001b[0m\u001b[0;34m)\u001b[0m\u001b[0;34m\u001b[0m\u001b[0m\n",
      "\u001b[0;32m~/anaconda3/lib/python3.6/site-packages/sklearn/base.py\u001b[0m in \u001b[0;36mfit_transform\u001b[0;34m(self, X, y, **fit_params)\u001b[0m\n\u001b[1;32m    515\u001b[0m         \u001b[0;32mif\u001b[0m \u001b[0my\u001b[0m \u001b[0;32mis\u001b[0m \u001b[0;32mNone\u001b[0m\u001b[0;34m:\u001b[0m\u001b[0;34m\u001b[0m\u001b[0m\n\u001b[1;32m    516\u001b[0m             \u001b[0;31m# fit method of arity 1 (unsupervised transformation)\u001b[0m\u001b[0;34m\u001b[0m\u001b[0;34m\u001b[0m\u001b[0m\n\u001b[0;32m--> 517\u001b[0;31m             \u001b[0;32mreturn\u001b[0m \u001b[0mself\u001b[0m\u001b[0;34m.\u001b[0m\u001b[0mfit\u001b[0m\u001b[0;34m(\u001b[0m\u001b[0mX\u001b[0m\u001b[0;34m,\u001b[0m \u001b[0;34m**\u001b[0m\u001b[0mfit_params\u001b[0m\u001b[0;34m)\u001b[0m\u001b[0;34m.\u001b[0m\u001b[0mtransform\u001b[0m\u001b[0;34m(\u001b[0m\u001b[0mX\u001b[0m\u001b[0;34m)\u001b[0m\u001b[0;34m\u001b[0m\u001b[0m\n\u001b[0m\u001b[1;32m    518\u001b[0m         \u001b[0;32melse\u001b[0m\u001b[0;34m:\u001b[0m\u001b[0;34m\u001b[0m\u001b[0m\n\u001b[1;32m    519\u001b[0m             \u001b[0;31m# fit method of arity 2 (supervised transformation)\u001b[0m\u001b[0;34m\u001b[0m\u001b[0;34m\u001b[0m\u001b[0m\n",
      "\u001b[0;32m~/anaconda3/lib/python3.6/site-packages/sklearn/preprocessing/data.py\u001b[0m in \u001b[0;36mfit\u001b[0;34m(self, X, y)\u001b[0m\n\u001b[1;32m    588\u001b[0m         \u001b[0;31m# Reset internal state before fitting\u001b[0m\u001b[0;34m\u001b[0m\u001b[0;34m\u001b[0m\u001b[0m\n\u001b[1;32m    589\u001b[0m         \u001b[0mself\u001b[0m\u001b[0;34m.\u001b[0m\u001b[0m_reset\u001b[0m\u001b[0;34m(\u001b[0m\u001b[0;34m)\u001b[0m\u001b[0;34m\u001b[0m\u001b[0m\n\u001b[0;32m--> 590\u001b[0;31m         \u001b[0;32mreturn\u001b[0m \u001b[0mself\u001b[0m\u001b[0;34m.\u001b[0m\u001b[0mpartial_fit\u001b[0m\u001b[0;34m(\u001b[0m\u001b[0mX\u001b[0m\u001b[0;34m,\u001b[0m \u001b[0my\u001b[0m\u001b[0;34m)\u001b[0m\u001b[0;34m\u001b[0m\u001b[0m\n\u001b[0m\u001b[1;32m    591\u001b[0m \u001b[0;34m\u001b[0m\u001b[0m\n\u001b[1;32m    592\u001b[0m     \u001b[0;32mdef\u001b[0m \u001b[0mpartial_fit\u001b[0m\u001b[0;34m(\u001b[0m\u001b[0mself\u001b[0m\u001b[0;34m,\u001b[0m \u001b[0mX\u001b[0m\u001b[0;34m,\u001b[0m \u001b[0my\u001b[0m\u001b[0;34m=\u001b[0m\u001b[0;32mNone\u001b[0m\u001b[0;34m)\u001b[0m\u001b[0;34m:\u001b[0m\u001b[0;34m\u001b[0m\u001b[0m\n",
      "\u001b[0;32m~/anaconda3/lib/python3.6/site-packages/sklearn/preprocessing/data.py\u001b[0m in \u001b[0;36mpartial_fit\u001b[0;34m(self, X, y)\u001b[0m\n\u001b[1;32m    610\u001b[0m         \"\"\"\n\u001b[1;32m    611\u001b[0m         X = check_array(X, accept_sparse=('csr', 'csc'), copy=self.copy,\n\u001b[0;32m--> 612\u001b[0;31m                         warn_on_dtype=True, estimator=self, dtype=FLOAT_DTYPES)\n\u001b[0m\u001b[1;32m    613\u001b[0m \u001b[0;34m\u001b[0m\u001b[0m\n\u001b[1;32m    614\u001b[0m         \u001b[0;31m# Even in the case of `with_mean=False`, we update the mean anyway\u001b[0m\u001b[0;34m\u001b[0m\u001b[0;34m\u001b[0m\u001b[0m\n",
      "\u001b[0;32m~/anaconda3/lib/python3.6/site-packages/sklearn/utils/validation.py\u001b[0m in \u001b[0;36mcheck_array\u001b[0;34m(array, accept_sparse, dtype, order, copy, force_all_finite, ensure_2d, allow_nd, ensure_min_samples, ensure_min_features, warn_on_dtype, estimator)\u001b[0m\n\u001b[1;32m    431\u001b[0m                                       force_all_finite)\n\u001b[1;32m    432\u001b[0m     \u001b[0;32melse\u001b[0m\u001b[0;34m:\u001b[0m\u001b[0;34m\u001b[0m\u001b[0m\n\u001b[0;32m--> 433\u001b[0;31m         \u001b[0marray\u001b[0m \u001b[0;34m=\u001b[0m \u001b[0mnp\u001b[0m\u001b[0;34m.\u001b[0m\u001b[0marray\u001b[0m\u001b[0;34m(\u001b[0m\u001b[0marray\u001b[0m\u001b[0;34m,\u001b[0m \u001b[0mdtype\u001b[0m\u001b[0;34m=\u001b[0m\u001b[0mdtype\u001b[0m\u001b[0;34m,\u001b[0m \u001b[0morder\u001b[0m\u001b[0;34m=\u001b[0m\u001b[0morder\u001b[0m\u001b[0;34m,\u001b[0m \u001b[0mcopy\u001b[0m\u001b[0;34m=\u001b[0m\u001b[0mcopy\u001b[0m\u001b[0;34m)\u001b[0m\u001b[0;34m\u001b[0m\u001b[0m\n\u001b[0m\u001b[1;32m    434\u001b[0m \u001b[0;34m\u001b[0m\u001b[0m\n\u001b[1;32m    435\u001b[0m         \u001b[0;32mif\u001b[0m \u001b[0mensure_2d\u001b[0m\u001b[0;34m:\u001b[0m\u001b[0;34m\u001b[0m\u001b[0m\n",
      "\u001b[0;31mValueError\u001b[0m: could not convert string to float: 'Normal'"
     ]
    }
   ],
   "source": [
    "from sklearn import metrics\n",
    "from sklearn.preprocessing import StandardScaler\n",
    "from sklearn.cross_validation import train_test_split\n",
    "from sklearn.linear_model import LinearRegression, BayesianRidge\n",
    "from sklearn.svm import SVR\n",
    "from sklearn.tree import DecisionTreeRegressor\n",
    "from sklearn.ensemble import RandomForestRegressor\n",
    "\n",
    "\n",
    "variables = ['OverallQual', 'GarageCars', 'FullBath', 'TotRmsAbvGrd', 'logGrLivArea', 'GarageArea', 'logTotalBsmtSF', 'log1stFlrSF']\n",
    "\n",
    "# df_new = pd.get_dummies(dataset_train[variables], columns=['OverallQual', 'GarageCars', 'FullBath', 'TotRmsAbvGrd'], drop_first=True)\n",
    "\n",
    "X = dataset_train.values\n",
    "y = dataset_train['logSalePrice'].values\n",
    "\n",
    "sc_X = StandardScaler()\n",
    "sc_y = StandardScaler()\n",
    "\n",
    "X_scaled = sc_X.fit_transform(X)\n",
    "\n",
    "y_scaled = sc_y.fit_transform(y.reshape(-1, 1)).ravel()\n",
    "\n",
    "X_train, X_test, y_train, y_test = train_test_split(X_scaled, y_scaled, test_size = 0.2, random_state = 0)"
   ]
  },
  {
   "cell_type": "code",
   "execution_count": null,
   "metadata": {},
   "outputs": [],
   "source": [
    "regressors = {\n",
    "        'Linear Regression': LinearRegression(),\n",
    "        'Bayesian Ridge': BayesianRidge(),\n",
    "        'Supoort Vector Regression': SVR(),\n",
    "        'Decision Tree Regressor': DecisionTreeRegressor(), \n",
    "        'Random Forest Regressor':RandomForestRegressor(n_estimators = 300, random_state = 3)\n",
    "       }\n",
    "\n",
    "errors = []\n",
    "\n",
    "for name, regressor in regressors.items():\n",
    "    regressor.fit(X_train, y_train)\n",
    "    y_pred = regressor.predict(X_test)\n",
    "    error = np.sqrt(metrics.mean_squared_error(sc_y.inverse_transform(y_test), sc_y.inverse_transform(y_pred)))\n",
    "    print(\"MSE for \" + name + \" is: \" + str(error))\n",
    "    errors.append(error)\n",
    "\n",
    "\n",
    "x_pos = [i for i, _ in enumerate(regressors.keys())]\n",
    "\n",
    "plt.figure(figsize=(15, 5))\n",
    "plt.bar(x_pos, errors, width=0.5)\n",
    "plt.xlabel(\"Regressors\", fontsize=15)\n",
    "plt.ylabel(\"Errors\", fontsize=15)\n",
    "plt.xticks(x_pos, regressors.keys(), fontsize=12)\n",
    "plt.show()\n"
   ]
  },
  {
   "cell_type": "markdown",
   "metadata": {},
   "source": [
    "We can see that our Random Forest Regressor has the best performance.\n",
    "So we stick with Random Forest Regressor, and evaluate the scores for the test set"
   ]
  },
  {
   "cell_type": "code",
   "execution_count": null,
   "metadata": {},
   "outputs": [],
   "source": []
  },
  {
   "cell_type": "code",
   "execution_count": null,
   "metadata": {},
   "outputs": [],
   "source": [
    "dataset_test[dataset_test[features[1:]].isnull().any(axis=1)][features[1:]]\n"
   ]
  },
  {
   "cell_type": "markdown",
   "metadata": {},
   "source": [
    "There are some misssing values for some features in test dataset, so we cannot apply the model directly. Yet since the number of missing values is small, we can simply apply the average method. "
   ]
  },
  {
   "cell_type": "code",
   "execution_count": null,
   "metadata": {},
   "outputs": [],
   "source": [
    "dataset_test[features[1:]].iloc[[660]]\n"
   ]
  },
  {
   "cell_type": "code",
   "execution_count": null,
   "metadata": {},
   "outputs": [],
   "source": [
    "dataset_test[features[1:]].iloc[[1116]]"
   ]
  },
  {
   "cell_type": "code",
   "execution_count": null,
   "metadata": {
    "collapsed": true
   },
   "outputs": [],
   "source": [
    "from sklearn.preprocessing import Imputer\n",
    "imputer = Imputer(missing_values = 'NaN', strategy = 'mean')\n",
    "\n",
    "imputer.fit(dataset_test[features[1:]])\n",
    "\n",
    "dataset_test[features[1:]] = imputer.transform(dataset_test[features[1:]])\n",
    "\n",
    "dataset_test[[\"OverallQual\", \"GarageCars\", \"FullBath\", \"TotRmsAbvGrd\"]] = dataset_test[[\"OverallQual\", \"GarageCars\", \"FullBath\", \"TotRmsAbvGrd\"]].astype(int)"
   ]
  },
  {
   "cell_type": "code",
   "execution_count": null,
   "metadata": {},
   "outputs": [],
   "source": [
    "dataset_test[features[1:]].isnull().sum()\n"
   ]
  },
  {
   "cell_type": "code",
   "execution_count": null,
   "metadata": {},
   "outputs": [],
   "source": [
    "# dataset_test['logSalePrice'] = np.log(dataset_test['SalePrice'])\n",
    "dataset_test['logGrLivArea'] = np.log(dataset_test['GrLivArea'])\n",
    "dataset_test['logTotalBsmtSF'] = 0 \n",
    "dataset_test.loc[dataset_test['TotalBsmtSF']>0,'logTotalBsmtSF'] = np.log(dataset_test['TotalBsmtSF'])\n",
    "dataset_test['log1stFlrSF'] = np.log(dataset_test['1stFlrSF'])\n"
   ]
  },
  {
   "cell_type": "code",
   "execution_count": null,
   "metadata": {},
   "outputs": [],
   "source": []
  },
  {
   "cell_type": "code",
   "execution_count": null,
   "metadata": {
    "collapsed": true
   },
   "outputs": [],
   "source": [
    "submission_df = pd.get_dummies(dataset_test[variables], columns=['OverallQual', 'GarageCars', 'FullBath', 'TotRmsAbvGrd'], drop_first=True)\n",
    "\n"
   ]
  },
  {
   "cell_type": "code",
   "execution_count": null,
   "metadata": {},
   "outputs": [],
   "source": []
  },
  {
   "cell_type": "code",
   "execution_count": null,
   "metadata": {},
   "outputs": [],
   "source": [
    "\n",
    "\n",
    "X_submit = submission_df.values\n",
    "# y = dataset_train['logSalePrice'].values\n",
    "\n",
    "sc_X = StandardScaler()\n",
    "# sc_y = StandardScaler()\n",
    "\n",
    "X_submit = sc_X.fit_transform(X_submit)\n",
    "\n",
    "# y_scaled = sc_y.fit_transform(y.reshape(-1, 1)).ravel()\n",
    "\n"
   ]
  },
  {
   "cell_type": "code",
   "execution_count": null,
   "metadata": {},
   "outputs": [],
   "source": [
    "df_new.columns"
   ]
  },
  {
   "cell_type": "code",
   "execution_count": null,
   "metadata": {},
   "outputs": [],
   "source": [
    "submission_df.columns"
   ]
  },
  {
   "cell_type": "code",
   "execution_count": null,
   "metadata": {},
   "outputs": [],
   "source": [
    "regressor = RandomForestRegressor(n_estimators = 300, random_state = 3)\n",
    "\n",
    "regressor.fit(X_scaled, y_scaled)\n"
   ]
  },
  {
   "cell_type": "code",
   "execution_count": null,
   "metadata": {},
   "outputs": [],
   "source": [
    "logpredicted_price = sc_y.inverse_transform(regressor.predict(X_submit))"
   ]
  },
  {
   "cell_type": "code",
   "execution_count": null,
   "metadata": {
    "scrolled": true
   },
   "outputs": [],
   "source": [
    "# pd.DataFrame(logpredicted_price)"
   ]
  },
  {
   "cell_type": "code",
   "execution_count": null,
   "metadata": {},
   "outputs": [],
   "source": [
    "observed_price = pd.read_csv('sample_submission.csv')\n",
    "\n",
    "logobserved_price = np.log(observed_price['SalePrice'])\n",
    "\n",
    "# logobserved_price"
   ]
  },
  {
   "cell_type": "code",
   "execution_count": null,
   "metadata": {
    "collapsed": true
   },
   "outputs": [],
   "source": [
    "np.sqrt(metrics.mean_squared_error(sc_y.inverse_transform(y_test), sc_y.inverse_transform(y_pred)))\n",
    "\n",
    "cost = np.sqrt(metrics.mean_squared_error(logobserved_price, logpredicted_price))"
   ]
  },
  {
   "cell_type": "code",
   "execution_count": null,
   "metadata": {},
   "outputs": [],
   "source": []
  },
  {
   "cell_type": "code",
   "execution_count": null,
   "metadata": {},
   "outputs": [],
   "source": []
  },
  {
   "cell_type": "code",
   "execution_count": null,
   "metadata": {
    "collapsed": true
   },
   "outputs": [],
   "source": []
  }
 ],
 "metadata": {
  "kernelspec": {
   "display_name": "Python 3",
   "language": "python",
   "name": "python3"
  },
  "language_info": {
   "codemirror_mode": {
    "name": "ipython",
    "version": 3
   },
   "file_extension": ".py",
   "mimetype": "text/x-python",
   "name": "python",
   "nbconvert_exporter": "python",
   "pygments_lexer": "ipython3",
   "version": "3.6.3"
  }
 },
 "nbformat": 4,
 "nbformat_minor": 2
}
